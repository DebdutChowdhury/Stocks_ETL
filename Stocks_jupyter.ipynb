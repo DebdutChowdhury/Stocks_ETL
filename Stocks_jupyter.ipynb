{
 "cells": [
  {
   "cell_type": "code",
   "execution_count": 1,
   "id": "6d120edf",
   "metadata": {},
   "outputs": [],
   "source": [
    "import yfinance as yfs\n",
    "import pandas as pd"
   ]
  },
  {
   "cell_type": "code",
   "execution_count": 4,
   "id": "22a3dbb4",
   "metadata": {},
   "outputs": [
    {
     "name": "stdout",
     "output_type": "stream",
     "text": [
      "[*********************100%***********************]  1 of 1 completed\n"
     ]
    }
   ],
   "source": [
    "data = yfs.download(\"RELIANCE.NS\")"
   ]
  },
  {
   "cell_type": "code",
   "execution_count": 5,
   "id": "531050c4",
   "metadata": {},
   "outputs": [],
   "source": [
    "data.to_csv(\"Reliance.csv\")"
   ]
  },
  {
   "cell_type": "code",
   "execution_count": null,
   "id": "554e4f0f",
   "metadata": {},
   "outputs": [],
   "source": []
  }
 ],
 "metadata": {
  "kernelspec": {
   "display_name": "mlpractice",
   "language": "python",
   "name": "mlpractice"
  },
  "language_info": {
   "codemirror_mode": {
    "name": "ipython",
    "version": 3
   },
   "file_extension": ".py",
   "mimetype": "text/x-python",
   "name": "python",
   "nbconvert_exporter": "python",
   "pygments_lexer": "ipython3",
   "version": "3.9.16"
  }
 },
 "nbformat": 4,
 "nbformat_minor": 5
}
